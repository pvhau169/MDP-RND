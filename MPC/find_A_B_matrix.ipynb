{
  "nbformat": 4,
  "nbformat_minor": 0,
  "metadata": {
    "colab": {
      "name": "Copy of Untitled0.ipynb",
      "provenance": [],
      "collapsed_sections": []
    },
    "kernelspec": {
      "name": "python3",
      "display_name": "Python 3"
    }
  },
  "cells": [
    {
      "cell_type": "code",
      "metadata": {
        "id": "89vdRi-fTNZB"
      },
      "source": [
        "import numpy as np\n",
        "from sklearn.linear_model import Ridge, Lasso\n",
        "from sklearn.model_selection import cross_val_score\n",
        "import matplotlib.pyplot as plt\n",
        "from sklearn.linear_model import LinearRegression\n",
        "import gym\n",
        "import random\n",
        "from scipy.linalg import solve\n"
      ],
      "execution_count": null,
      "outputs": []
    },
    {
      "cell_type": "code",
      "metadata": {
        "id": "RySpiHSgTScu"
      },
      "source": [
        "# np.random.seed(0)"
      ],
      "execution_count": null,
      "outputs": []
    },
    {
      "cell_type": "code",
      "metadata": {
        "id": "H5kBjkCxa2c7"
      },
      "source": [
        "env = gym.make('CartPole-v0')"
      ],
      "execution_count": null,
      "outputs": []
    },
    {
      "cell_type": "code",
      "metadata": {
        "colab": {
          "base_uri": "https://localhost:8080/"
        },
        "id": "ySoNpODma2fM",
        "outputId": "6d7072a1-acd3-427a-ec9d-a38c11d9c0a4"
      },
      "source": [
        "env.reset()"
      ],
      "execution_count": null,
      "outputs": [
        {
          "output_type": "execute_result",
          "data": {
            "text/plain": [
              "array([-0.03954555,  0.04991983, -0.04186659, -0.00989815])"
            ]
          },
          "metadata": {
            "tags": []
          },
          "execution_count": 84
        }
      ]
    },
    {
      "cell_type": "code",
      "metadata": {
        "id": "CtlbZa4Sa2hp",
        "colab": {
          "base_uri": "https://localhost:8080/"
        },
        "outputId": "c27b2050-85ae-4bbe-b1ce-9ecab92027d3"
      },
      "source": [
        "env.force_mag"
      ],
      "execution_count": null,
      "outputs": [
        {
          "output_type": "execute_result",
          "data": {
            "text/plain": [
              "7.315647908504083"
            ]
          },
          "metadata": {
            "tags": []
          },
          "execution_count": 18
        }
      ]
    },
    {
      "cell_type": "code",
      "metadata": {
        "id": "PsclFfNdjMaS"
      },
      "source": [
        "env.force_mag = 10.0\n",
        "states = []\n",
        "actions = []"
      ],
      "execution_count": null,
      "outputs": []
    },
    {
      "cell_type": "code",
      "metadata": {
        "id": "cGSZjliyTU2e"
      },
      "source": [
        "count = 100000\n",
        "count = 5\n",
        "for i in range(count):\n",
        "  force = random.uniform(-10.0, 10.0)\n",
        "  if force>0: action = 1\n",
        "  else: action = 0\n",
        "  state = env.state\n",
        "  states.append(state)\n",
        "  actions.append(force)\n",
        "  env.force_mag = force\n",
        "\n",
        "  observation, reward, done, info =  env.step(action)\n",
        "  if done:\n",
        "    env.reset()\n",
        "\n"
      ],
      "execution_count": null,
      "outputs": []
    },
    {
      "cell_type": "code",
      "metadata": {
        "id": "0tRq88UIjrRq"
      },
      "source": [
        "states = np.array(states)\n",
        "actions = np.array(actions).reshape((count,1))"
      ],
      "execution_count": null,
      "outputs": []
    },
    {
      "cell_type": "code",
      "metadata": {
        "colab": {
          "base_uri": "https://localhost:8080/"
        },
        "id": "rJtp-6lDj1f4",
        "outputId": "601a13ef-b851-4862-f730-71de17dd6e19"
      },
      "source": [
        "print(states.shape)\n",
        "print(actions.shape)"
      ],
      "execution_count": null,
      "outputs": [
        {
          "output_type": "stream",
          "text": [
            "(5, 4)\n",
            "(5, 1)\n"
          ],
          "name": "stdout"
        }
      ]
    },
    {
      "cell_type": "code",
      "metadata": {
        "id": "vpKmMV8UTYkD"
      },
      "source": [
        "input = np.concatenate ((states, actions), axis  = 1)[:-1,:]\n",
        "output = states.copy()[1:,:]"
      ],
      "execution_count": null,
      "outputs": []
    },
    {
      "cell_type": "code",
      "metadata": {
        "colab": {
          "base_uri": "https://localhost:8080/"
        },
        "id": "_NfKNHBIoqF0",
        "outputId": "5a004f8a-c563-4d6f-eaeb-54bb604aa8b7"
      },
      "source": [
        "print(input.shape)\n",
        "print(output.shape)"
      ],
      "execution_count": null,
      "outputs": [
        {
          "output_type": "stream",
          "text": [
            "(4, 5)\n",
            "(4, 4)\n"
          ],
          "name": "stdout"
        }
      ]
    },
    {
      "cell_type": "code",
      "metadata": {
        "id": "xB8yFyomaYxh",
        "colab": {
          "base_uri": "https://localhost:8080/"
        },
        "outputId": "ee4db2a7-c812-4905-9e6a-dbf1a0983591"
      },
      "source": [
        "AtA = np.matmul(input.T, input)\n",
        "AtA"
      ],
      "execution_count": null,
      "outputs": [
        {
          "output_type": "execute_result",
          "data": {
            "text/plain": [
              "array([[ 9.57374227e-03, -4.74256593e-02, -1.43042069e-03,\n",
              "         8.71801093e-02, -6.20017363e-01],\n",
              "       [-4.74256593e-02,  4.59202625e-01,  5.67493783e-04,\n",
              "        -7.70703150e-01,  1.95669021e+00],\n",
              "       [-1.43042069e-03,  5.67493783e-04,  4.24633709e-04,\n",
              "        -3.14295524e-03,  1.14055834e-01],\n",
              "       [ 8.71801093e-02, -7.70703150e-01, -3.14295524e-03,\n",
              "         1.30586418e+00, -3.97933345e+00],\n",
              "       [-6.20017363e-01,  1.95669021e+00,  1.14055834e-01,\n",
              "        -3.97933345e+00,  5.13551541e+01]])"
            ]
          },
          "metadata": {
            "tags": []
          },
          "execution_count": 67
        }
      ]
    },
    {
      "cell_type": "code",
      "metadata": {
        "colab": {
          "base_uri": "https://localhost:8080/",
          "height": 282
        },
        "id": "1EkK0Akzpii0",
        "outputId": "0ee0c027-382f-4ba1-a767-76cb91f02be9"
      },
      "source": [
        "x = solve(input, output)"
      ],
      "execution_count": null,
      "outputs": [
        {
          "output_type": "error",
          "ename": "ValueError",
          "evalue": "ignored",
          "traceback": [
            "\u001b[0;31m---------------------------------------------------------------------------\u001b[0m",
            "\u001b[0;31mValueError\u001b[0m                                Traceback (most recent call last)",
            "\u001b[0;32m<ipython-input-68-1ff40a25e9f7>\u001b[0m in \u001b[0;36m<module>\u001b[0;34m()\u001b[0m\n\u001b[0;32m----> 1\u001b[0;31m \u001b[0mx\u001b[0m \u001b[0;34m=\u001b[0m \u001b[0msolve\u001b[0m\u001b[0;34m(\u001b[0m\u001b[0minput\u001b[0m\u001b[0;34m,\u001b[0m \u001b[0moutput\u001b[0m\u001b[0;34m)\u001b[0m\u001b[0;34m\u001b[0m\u001b[0;34m\u001b[0m\u001b[0m\n\u001b[0m",
            "\u001b[0;32m/usr/local/lib/python3.6/dist-packages/scipy/linalg/basic.py\u001b[0m in \u001b[0;36msolve\u001b[0;34m(a, b, sym_pos, lower, overwrite_a, overwrite_b, debug, check_finite, assume_a, transposed)\u001b[0m\n\u001b[1;32m    145\u001b[0m \u001b[0;34m\u001b[0m\u001b[0m\n\u001b[1;32m    146\u001b[0m     \u001b[0;32mif\u001b[0m \u001b[0ma1\u001b[0m\u001b[0;34m.\u001b[0m\u001b[0mshape\u001b[0m\u001b[0;34m[\u001b[0m\u001b[0;36m0\u001b[0m\u001b[0;34m]\u001b[0m \u001b[0;34m!=\u001b[0m \u001b[0ma1\u001b[0m\u001b[0;34m.\u001b[0m\u001b[0mshape\u001b[0m\u001b[0;34m[\u001b[0m\u001b[0;36m1\u001b[0m\u001b[0;34m]\u001b[0m\u001b[0;34m:\u001b[0m\u001b[0;34m\u001b[0m\u001b[0;34m\u001b[0m\u001b[0m\n\u001b[0;32m--> 147\u001b[0;31m         \u001b[0;32mraise\u001b[0m \u001b[0mValueError\u001b[0m\u001b[0;34m(\u001b[0m\u001b[0;34m'Input a needs to be a square matrix.'\u001b[0m\u001b[0;34m)\u001b[0m\u001b[0;34m\u001b[0m\u001b[0;34m\u001b[0m\u001b[0m\n\u001b[0m\u001b[1;32m    148\u001b[0m \u001b[0;34m\u001b[0m\u001b[0m\n\u001b[1;32m    149\u001b[0m     \u001b[0;32mif\u001b[0m \u001b[0mn\u001b[0m \u001b[0;34m!=\u001b[0m \u001b[0mb1\u001b[0m\u001b[0;34m.\u001b[0m\u001b[0mshape\u001b[0m\u001b[0;34m[\u001b[0m\u001b[0;36m0\u001b[0m\u001b[0;34m]\u001b[0m\u001b[0;34m:\u001b[0m\u001b[0;34m\u001b[0m\u001b[0;34m\u001b[0m\u001b[0m\n",
            "\u001b[0;31mValueError\u001b[0m: Input a needs to be a square matrix."
          ]
        }
      ]
    },
    {
      "cell_type": "code",
      "metadata": {
        "colab": {
          "base_uri": "https://localhost:8080/"
        },
        "id": "FutZ2ErQo-YM",
        "outputId": "b8f27054-63b4-4415-d5e7-e29dd7f8edf3"
      },
      "source": [
        "np.linalg.inv(AtA)"
      ],
      "execution_count": null,
      "outputs": [
        {
          "output_type": "execute_result",
          "data": {
            "text/plain": [
              "array([[-5.35458007e+16,  3.00559934e+16, -5.40014070e+16,\n",
              "         2.10626496e+16, -3.96282024e+13],\n",
              "       [ 3.00559934e+16, -1.68708420e+16,  3.03117315e+16,\n",
              "        -1.18227546e+16,  2.22438544e+13],\n",
              "       [-5.40014070e+16,  3.03117315e+16, -5.44608898e+16,\n",
              "         2.12418658e+16, -3.99653877e+13],\n",
              "       [ 2.10626496e+16, -1.18227546e+16,  2.12418658e+16,\n",
              "        -8.28515409e+15,  1.55880561e+13],\n",
              "       [-3.96282024e+13,  2.22438544e+13, -3.99653877e+13,\n",
              "         1.55880561e+13, -2.93280594e+10]])"
            ]
          },
          "metadata": {
            "tags": []
          },
          "execution_count": 69
        }
      ]
    },
    {
      "cell_type": "code",
      "metadata": {
        "id": "9EVeNePgad5E"
      },
      "source": [
        "matrix_A = np.matmul(np.linalg.inv(AtA), input.T)\n",
        "matrix_A = np.matmul(matrix_A, output)"
      ],
      "execution_count": null,
      "outputs": []
    },
    {
      "cell_type": "code",
      "metadata": {
        "colab": {
          "base_uri": "https://localhost:8080/"
        },
        "id": "cQwF-yS_5YUF",
        "outputId": "6175751c-fc22-4993-fee1-b86cabd2b488"
      },
      "source": [
        "matrix_A = np.swapaxes(matrix_A,0,1)\n",
        "matrix_A.shape"
      ],
      "execution_count": null,
      "outputs": [
        {
          "output_type": "execute_result",
          "data": {
            "text/plain": [
              "(4, 5)"
            ]
          },
          "metadata": {
            "tags": []
          },
          "execution_count": 71
        }
      ]
    },
    {
      "cell_type": "code",
      "metadata": {
        "colab": {
          "base_uri": "https://localhost:8080/"
        },
        "id": "0PCEquEV5li0",
        "outputId": "eb10dd45-f025-4f15-db76-9111fdb28646"
      },
      "source": [
        "matrix_A.shape"
      ],
      "execution_count": null,
      "outputs": [
        {
          "output_type": "execute_result",
          "data": {
            "text/plain": [
              "(4, 5)"
            ]
          },
          "metadata": {
            "tags": []
          },
          "execution_count": 72
        }
      ]
    },
    {
      "cell_type": "code",
      "metadata": {
        "id": "tbZbHdP76ALS"
      },
      "source": [
        "final_B = matrix_A[:,-1]"
      ],
      "execution_count": null,
      "outputs": []
    },
    {
      "cell_type": "code",
      "metadata": {
        "id": "wz4Hl1NqWSOz"
      },
      "source": [
        "final_A = np.delete(matrix_A, -1, axis=1)"
      ],
      "execution_count": null,
      "outputs": []
    },
    {
      "cell_type": "code",
      "metadata": {
        "colab": {
          "base_uri": "https://localhost:8080/"
        },
        "id": "PkUVixyi9lbm",
        "outputId": "daf08915-6671-4ec6-9541-db94c7de384a"
      },
      "source": [
        "final_A"
      ],
      "execution_count": null,
      "outputs": [
        {
          "output_type": "execute_result",
          "data": {
            "text/plain": [
              "array([[ 0.64637905,  0.11102189, -0.17543685,  0.08023501],\n",
              "       [-2.81804314,  0.74275193, -2.87052554,  0.09048213],\n",
              "       [ 0.03283145, -0.00813484,  1.02718452, -0.00769815],\n",
              "       [ 5.90938433, -0.74658413,  6.60253324,  0.07683999]])"
            ]
          },
          "metadata": {
            "tags": []
          },
          "execution_count": 75
        }
      ]
    },
    {
      "cell_type": "code",
      "metadata": {
        "colab": {
          "base_uri": "https://localhost:8080/"
        },
        "id": "tDYWfUKx9lgj",
        "outputId": "3c3e2cf1-1c01-4e53-ffc2-c050fe10c482"
      },
      "source": [
        "final_B = final_B.reshape((4,1))\n",
        "final_B"
      ],
      "execution_count": null,
      "outputs": [
        {
          "output_type": "execute_result",
          "data": {
            "text/plain": [
              "array([[ 6.24799825e-06],\n",
              "       [-2.11979988e-03],\n",
              "       [ 7.00043900e-05],\n",
              "       [ 4.91233698e-03]])"
            ]
          },
          "metadata": {
            "tags": []
          },
          "execution_count": 76
        }
      ]
    },
    {
      "cell_type": "code",
      "metadata": {
        "id": "X0kf5L3I9lkG"
      },
      "source": [
        "state_temp = states[0].reshape((4,1))\n",
        "action_temp = actions[0].reshape(1,1)"
      ],
      "execution_count": null,
      "outputs": []
    },
    {
      "cell_type": "code",
      "metadata": {
        "colab": {
          "base_uri": "https://localhost:8080/"
        },
        "id": "GcOrHNtE9leL",
        "outputId": "edda526c-6ad7-4310-bbb0-daabf464e3b3"
      },
      "source": [
        "new_state = np.matmul(final_A, state_temp) + np.matmul(final_B, action_temp)\n",
        "print(new_state)"
      ],
      "execution_count": null,
      "outputs": [
        {
          "output_type": "stream",
          "text": [
            "[[-0.04243876]\n",
            " [ 0.06565159]\n",
            " [ 0.01324465]\n",
            " [-0.16376096]]\n"
          ],
          "name": "stdout"
        }
      ]
    },
    {
      "cell_type": "code",
      "metadata": {
        "id": "_YVO7zVDrGTJ"
      },
      "source": [
        ""
      ],
      "execution_count": null,
      "outputs": []
    },
    {
      "cell_type": "code",
      "metadata": {
        "colab": {
          "base_uri": "https://localhost:8080/"
        },
        "id": "D9RyfNaBFUtA",
        "outputId": "1d45b01b-9299-43df-a4ed-fa624492eff3"
      },
      "source": [
        "states[1]"
      ],
      "execution_count": null,
      "outputs": [
        {
          "output_type": "execute_result",
          "data": {
            "text/plain": [
              "array([-0.052318  ,  0.16190329,  0.01282549, -0.32622625])"
            ]
          },
          "metadata": {
            "tags": []
          },
          "execution_count": 79
        }
      ]
    },
    {
      "cell_type": "code",
      "metadata": {
        "colab": {
          "base_uri": "https://localhost:8080/"
        },
        "id": "XvfkH_VKrYYt",
        "outputId": "f83dc083-31bd-43a4-89d1-e483bd6d5b6b"
      },
      "source": [
        "np.matmul(matrix_A, input[0])"
      ],
      "execution_count": null,
      "outputs": [
        {
          "output_type": "execute_result",
          "data": {
            "text/plain": [
              "array([-0.04243876,  0.06565159,  0.01324465, -0.16376096])"
            ]
          },
          "metadata": {
            "tags": []
          },
          "execution_count": 80
        }
      ]
    },
    {
      "cell_type": "code",
      "metadata": {
        "id": "iYmEWe0prYbm"
      },
      "source": [
        "sta"
      ],
      "execution_count": null,
      "outputs": []
    }
  ]
}